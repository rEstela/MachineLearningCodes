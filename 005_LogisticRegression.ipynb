{
 "cells": [
  {
   "cell_type": "markdown",
   "id": "8c26751d",
   "metadata": {},
   "source": [
    "### Regressão Logistica\n",
    "Modelos lineares também são utilizados para classificação.\n",
    "\n",
    "Para modelos lineares para regressão, a saída y é uma função linear das features: uma linha, um plano ou um hiperplano.\n",
    "Para modelos lineares para classificação, a fronteira de decisão (decision boundary) é uma função linear da entrada. Em outras palavras, um classificador linear (binário) é um classificador que separa duas classses usando uma linha, um plano ou um hiperplano."
   ]
  },
  {
   "cell_type": "code",
   "execution_count": 6,
   "id": "4bc0d945",
   "metadata": {},
   "outputs": [],
   "source": [
    "# Load libraries\n",
    "from sklearn.linear_model import LogisticRegression\n",
    "from sklearn import datasets\n",
    "from sklearn.preprocessing import StandardScaler"
   ]
  },
  {
   "cell_type": "code",
   "execution_count": 7,
   "id": "139fe1dd",
   "metadata": {},
   "outputs": [],
   "source": [
    "# Load data with only two classes\n",
    "iris = datasets.load_iris()\n",
    "features = iris.data[:100,:]\n",
    "target = iris.target[:100]"
   ]
  },
  {
   "cell_type": "code",
   "execution_count": 8,
   "id": "01ad6511",
   "metadata": {},
   "outputs": [],
   "source": [
    "# Standardize features\n",
    "scaler = StandardScaler()\n",
    "features_standardized = scaler.fit_transform(features)"
   ]
  },
  {
   "cell_type": "code",
   "execution_count": 9,
   "id": "0d6f3d4b",
   "metadata": {},
   "outputs": [],
   "source": [
    "# Create logistic regression object\n",
    "logistic_regression = LogisticRegression(random_state=0)"
   ]
  },
  {
   "cell_type": "code",
   "execution_count": 10,
   "id": "009296ef",
   "metadata": {},
   "outputs": [],
   "source": [
    "# Train model\n",
    "model = logistic_regression.fit(features_standardized, target)"
   ]
  },
  {
   "cell_type": "code",
   "execution_count": null,
   "id": "01ac41e9",
   "metadata": {},
   "outputs": [],
   "source": []
  }
 ],
 "metadata": {
  "kernelspec": {
   "display_name": "Python 3 (ipykernel)",
   "language": "python",
   "name": "python3"
  },
  "language_info": {
   "codemirror_mode": {
    "name": "ipython",
    "version": 3
   },
   "file_extension": ".py",
   "mimetype": "text/x-python",
   "name": "python",
   "nbconvert_exporter": "python",
   "pygments_lexer": "ipython3",
   "version": "3.9.7"
  }
 },
 "nbformat": 4,
 "nbformat_minor": 5
}
