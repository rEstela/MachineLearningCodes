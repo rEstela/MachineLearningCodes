{
 "cells": [
  {
   "cell_type": "markdown",
   "id": "6fe1599a",
   "metadata": {},
   "source": [
    "## Principal Component Analysis\n",
    "### Redução de dimensionalidade utilizando extração de features\n",
    "\n",
    "É comum termos acesso a milhares de características (features). E.g. uma imagem colorida de tamanho 256 x 256 pixels pode ser transformada em um vetor de 196,608 features.\n",
    "\n",
    "Felizmente, nem todas as features são necessárias e o objetido da extração de características para redução de dimensionalidade é transformar nosso conjunto de features originais em um novo conjunto de features menor, mas mantendo a maior parte da informação contida neles. Ou seja, reduzir o número de features com apenas uma pequena perda de informação."
   ]
  },
  {
   "cell_type": "markdown",
   "id": "c88947ec",
   "metadata": {},
   "source": [
    "#### Importando bibliotecas"
   ]
  },
  {
   "cell_type": "code",
   "execution_count": 1,
   "id": "867b716a",
   "metadata": {},
   "outputs": [],
   "source": [
    "from sklearn.preprocessing import StandardScaler\n",
    "from sklearn.decomposition import PCA\n",
    "from sklearn import datasets"
   ]
  },
  {
   "cell_type": "code",
   "execution_count": 2,
   "id": "eb2517d1",
   "metadata": {},
   "outputs": [],
   "source": [
    "# Load the data\n",
    "digits = datasets.load_digits()"
   ]
  },
  {
   "cell_type": "code",
   "execution_count": 3,
   "id": "9ba5e727",
   "metadata": {},
   "outputs": [],
   "source": [
    "# Standardize the feature matrix\n",
    "features = StandardScaler().fit_transform(digits.data)"
   ]
  },
  {
   "cell_type": "code",
   "execution_count": 4,
   "id": "ad0d537c",
   "metadata": {},
   "outputs": [],
   "source": [
    "# Create a PCA that will retain 99% of variance\n",
    "pca = PCA(n_components = 0.99)"
   ]
  },
  {
   "cell_type": "code",
   "execution_count": 5,
   "id": "ec8bfaf7",
   "metadata": {},
   "outputs": [],
   "source": [
    "# Conduct PCA\n",
    "features_pca = pca.fit_transform(features)"
   ]
  },
  {
   "cell_type": "code",
   "execution_count": 6,
   "id": "b1c14891",
   "metadata": {},
   "outputs": [
    {
     "name": "stdout",
     "output_type": "stream",
     "text": [
      "Original number of features:  64\n",
      "Reduced number of features:  54\n"
     ]
    }
   ],
   "source": [
    "# Show results\n",
    "print(\"Original number of features: \", features.shape[1])\n",
    "print(\"Reduced number of features: \", features_pca.shape[1])"
   ]
  },
  {
   "cell_type": "markdown",
   "id": "7b703c47",
   "metadata": {},
   "source": [
    "## Linear Discriminant Analysis"
   ]
  },
  {
   "cell_type": "code",
   "execution_count": 10,
   "id": "82579d1f",
   "metadata": {},
   "outputs": [],
   "source": [
    "from sklearn.discriminant_analysis import LinearDiscriminantAnalysis"
   ]
  },
  {
   "cell_type": "code",
   "execution_count": 11,
   "id": "d4bd533c",
   "metadata": {},
   "outputs": [],
   "source": [
    "# Load Iris flower dataset\n",
    "iris = datasets.load_iris()\n",
    "features = iris.data\n",
    "target = iris.target"
   ]
  },
  {
   "cell_type": "code",
   "execution_count": 12,
   "id": "2d18a6ba",
   "metadata": {},
   "outputs": [],
   "source": [
    "# Create and run an LDA, then use it to transform the features\n",
    "lda = LinearDiscriminantAnalysis(n_components = 1)\n",
    "features_lda = lda.fit(features, target).transform(features)"
   ]
  },
  {
   "cell_type": "code",
   "execution_count": 13,
   "id": "4027bd0f",
   "metadata": {},
   "outputs": [
    {
     "name": "stdout",
     "output_type": "stream",
     "text": [
      "Original number of features:  4\n",
      "Reduced number of features:  1\n"
     ]
    }
   ],
   "source": [
    "# Print the number of features\n",
    "print(\"Original number of features: \", features.shape[1])\n",
    "print(\"Reduced number of features: \", features_lda.shape[1])"
   ]
  },
  {
   "cell_type": "markdown",
   "id": "f3917baf",
   "metadata": {},
   "source": [
    "#### Variancia explicada por cada componente"
   ]
  },
  {
   "cell_type": "code",
   "execution_count": 14,
   "id": "16341494",
   "metadata": {},
   "outputs": [
    {
     "data": {
      "text/plain": [
       "array([0.9912126])"
      ]
     },
     "execution_count": 14,
     "metadata": {},
     "output_type": "execute_result"
    }
   ],
   "source": [
    "lda.explained_variance_ratio_"
   ]
  },
  {
   "cell_type": "code",
   "execution_count": 15,
   "id": "d637a7a2",
   "metadata": {},
   "outputs": [
    {
     "data": {
      "text/plain": [
       "array([0.12033916, 0.09561054, 0.08444415, 0.06498408, 0.04860155,\n",
       "       0.0421412 , 0.03942083, 0.03389381, 0.02998221, 0.02932003,\n",
       "       0.02781805, 0.02577055, 0.02275303, 0.0222718 , 0.02165229,\n",
       "       0.01914167, 0.01775547, 0.01638069, 0.0159646 , 0.01489191,\n",
       "       0.0134797 , 0.01271931, 0.01165837, 0.01057647, 0.00975316,\n",
       "       0.00944559, 0.00863014, 0.00836643, 0.00797693, 0.00746471,\n",
       "       0.00725582, 0.00691911, 0.00653909, 0.00640793, 0.00591384,\n",
       "       0.00571162, 0.00523637, 0.00481808, 0.00453719, 0.00423163,\n",
       "       0.00406053, 0.00397085, 0.00356493, 0.00340787, 0.00327835,\n",
       "       0.00311032, 0.00288575, 0.00276489, 0.00259175, 0.00234483,\n",
       "       0.00218257, 0.00203598, 0.00195512, 0.00183318])"
      ]
     },
     "execution_count": 15,
     "metadata": {},
     "output_type": "execute_result"
    }
   ],
   "source": [
    "pca.explained_variance_ratio_"
   ]
  },
  {
   "cell_type": "code",
   "execution_count": null,
   "id": "acbc3778",
   "metadata": {},
   "outputs": [],
   "source": []
  }
 ],
 "metadata": {
  "kernelspec": {
   "display_name": "Python 3 (ipykernel)",
   "language": "python",
   "name": "python3"
  },
  "language_info": {
   "codemirror_mode": {
    "name": "ipython",
    "version": 3
   },
   "file_extension": ".py",
   "mimetype": "text/x-python",
   "name": "python",
   "nbconvert_exporter": "python",
   "pygments_lexer": "ipython3",
   "version": "3.9.7"
  }
 },
 "nbformat": 4,
 "nbformat_minor": 5
}
