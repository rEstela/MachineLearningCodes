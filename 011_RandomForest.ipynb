{
 "cells": [
  {
   "cell_type": "markdown",
   "id": "0c4cd6d8",
   "metadata": {},
   "source": [
    "#### Random Forest\n",
    "\n",
    "As árvores de decisão tendem a dar overfit no conj. de treinamento. Random Forest são uma forma de contornar esse problema.\n",
    "Uma Random Forest é uma coleção de árvores de decisão onde cada árvore é um pouco diferente da outra.\n",
    "\n",
    "A principal ideia é que cada árvore vai ter um bom resultado de predição, mas provavelmente vai dar overfit em alguma parte dos dados. Se construirmos muitas árvores, nós podemos reduzir a quantidade de overfitting pela média dos resultados.\n"
   ]
  },
  {
   "cell_type": "code",
   "execution_count": 1,
   "id": "e386b9f8",
   "metadata": {},
   "outputs": [],
   "source": [
    "# Treinando um modelo de regressão Random Forest\n",
    "\n",
    "# Load libraries\n",
    "from sklearn.ensemble import RandomForestRegressor\n",
    "from sklearn import datasets"
   ]
  },
  {
   "cell_type": "code",
   "execution_count": 2,
   "id": "dd996cdf",
   "metadata": {},
   "outputs": [],
   "source": [
    "# Load data with only two features\n",
    "boston = datasets.load_boston()\n",
    "features = boston.data[:,0:2]\n",
    "target = boston.target"
   ]
  },
  {
   "cell_type": "code",
   "execution_count": 3,
   "id": "b28ef09d",
   "metadata": {},
   "outputs": [],
   "source": [
    "# Create random forest classifier object\n",
    "randomforest = RandomForestRegressor(random_state=0, n_jobs=-1)"
   ]
  },
  {
   "cell_type": "code",
   "execution_count": 4,
   "id": "defe0f01",
   "metadata": {},
   "outputs": [],
   "source": [
    "# Train model\n",
    "model = randomforest.fit(features, target)"
   ]
  },
  {
   "cell_type": "code",
   "execution_count": null,
   "id": "c7b4a973",
   "metadata": {},
   "outputs": [],
   "source": []
  }
 ],
 "metadata": {
  "kernelspec": {
   "display_name": "Python 3 (ipykernel)",
   "language": "python",
   "name": "python3"
  },
  "language_info": {
   "codemirror_mode": {
    "name": "ipython",
    "version": 3
   },
   "file_extension": ".py",
   "mimetype": "text/x-python",
   "name": "python",
   "nbconvert_exporter": "python",
   "pygments_lexer": "ipython3",
   "version": "3.9.7"
  }
 },
 "nbformat": 4,
 "nbformat_minor": 5
}
