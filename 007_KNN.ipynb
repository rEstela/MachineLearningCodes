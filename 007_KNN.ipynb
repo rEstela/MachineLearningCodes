{
 "cells": [
  {
   "cell_type": "markdown",
   "id": "c67db2a5",
   "metadata": {},
   "source": [
    "#### K Nearest Neighbors\n",
    "\n",
    "Predição utilizando os k vizinhos mais próximos"
   ]
  },
  {
   "cell_type": "code",
   "execution_count": 1,
   "id": "e6ababe3",
   "metadata": {},
   "outputs": [],
   "source": [
    "# Load libraries\n",
    "from sklearn.neighbors import KNeighborsClassifier\n",
    "from sklearn.preprocessing import StandardScaler\n",
    "from sklearn import datasets"
   ]
  },
  {
   "cell_type": "code",
   "execution_count": 2,
   "id": "f0b230ac",
   "metadata": {},
   "outputs": [],
   "source": [
    "# Load data\n",
    "iris = datasets.load_iris()\n",
    "X = iris.data\n",
    "y = iris.target"
   ]
  },
  {
   "cell_type": "code",
   "execution_count": 3,
   "id": "d8ec977d",
   "metadata": {},
   "outputs": [],
   "source": [
    "# Create standardizer\n",
    "standardizer = StandardScaler()"
   ]
  },
  {
   "cell_type": "code",
   "execution_count": 4,
   "id": "af3baa79",
   "metadata": {},
   "outputs": [],
   "source": [
    "# Standardize features\n",
    "X_std = standardizer.fit_transform(X)"
   ]
  },
  {
   "cell_type": "code",
   "execution_count": 6,
   "id": "e770dc8b",
   "metadata": {},
   "outputs": [],
   "source": [
    "#Train a KNN classifier with 5 neighbors\n",
    "knn = KNeighborsClassifier(n_neighbors=5, n_jobs=-1).fit(X_std, y)"
   ]
  },
  {
   "cell_type": "code",
   "execution_count": 7,
   "id": "073fcbe8",
   "metadata": {},
   "outputs": [],
   "source": [
    "# Create two observations\n",
    "new_observations = [[ 0.75, 0.75, 0.75, 0.75],\n",
    "                    [ 1, 1, 1, 1]]"
   ]
  },
  {
   "cell_type": "code",
   "execution_count": 8,
   "id": "2870dccc",
   "metadata": {},
   "outputs": [
    {
     "data": {
      "text/plain": [
       "array([1, 2])"
      ]
     },
     "execution_count": 8,
     "metadata": {},
     "output_type": "execute_result"
    }
   ],
   "source": [
    "# Predict the class of two observations\n",
    "knn.predict(new_observations)"
   ]
  },
  {
   "cell_type": "code",
   "execution_count": null,
   "id": "f2577926",
   "metadata": {},
   "outputs": [],
   "source": []
  }
 ],
 "metadata": {
  "kernelspec": {
   "display_name": "Python 3 (ipykernel)",
   "language": "python",
   "name": "python3"
  },
  "language_info": {
   "codemirror_mode": {
    "name": "ipython",
    "version": 3
   },
   "file_extension": ".py",
   "mimetype": "text/x-python",
   "name": "python",
   "nbconvert_exporter": "python",
   "pygments_lexer": "ipython3",
   "version": "3.9.7"
  }
 },
 "nbformat": 4,
 "nbformat_minor": 5
}
