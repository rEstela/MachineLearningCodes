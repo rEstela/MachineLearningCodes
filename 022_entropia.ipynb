{
 "cells": [
  {
   "cell_type": "code",
   "execution_count": 1,
   "id": "6ffe5a72-8091-4c78-a5ac-ec624c23ba55",
   "metadata": {},
   "outputs": [],
   "source": [
    "# importando bibliotecas\n",
    "import numpy as np\n",
    "import matplotlib.pyplot as plt"
   ]
  },
  {
   "cell_type": "markdown",
   "id": "58d059e2-cc12-493b-a4d8-1437a0d478a4",
   "metadata": {},
   "source": [
    "### Entropia"
   ]
  },
  {
   "cell_type": "code",
   "execution_count": 3,
   "id": "051eecff-bad9-4959-9efb-322800b6b7d2",
   "metadata": {},
   "outputs": [
    {
     "name": "stdout",
     "output_type": "stream",
     "text": [
      "Entropia errada:0.34657359027997264\n"
     ]
    }
   ],
   "source": [
    "# probabilidade de ocorrencia de um evento\n",
    "p = 0.25\n",
    "\n",
    "# formula (não a correta)\n",
    "H = - ( p* np.log(p) )\n",
    "print('Entropia errada: ' + str(H))\n",
    "# errado pois estamos calculando a entropia de apenas 1 único evento"
   ]
  },
  {
   "cell_type": "code",
   "execution_count": 5,
   "id": "90c78275-91e8-47a8-a33e-070d15b06f27",
   "metadata": {},
   "outputs": [
    {
     "name": "stdout",
     "output_type": "stream",
     "text": [
      "Entropia correta: 0.5623351446188083\n"
     ]
    }
   ],
   "source": [
    "# Forma correta de calcular entropia\n",
    "# p = 0.25 # probabilidade do evento acontecer\n",
    "# q = 1 - p # probabilidade do evento Não acontecer\n",
    "\n",
    "x = [0.25, 0.75]\n",
    "\n",
    "H = 0\n",
    "for p in x:\n",
    "    H += -p*np.log(p)\n",
    "\n",
    "print('Entropia correta: ' + str(H))"
   ]
  },
  {
   "cell_type": "code",
   "execution_count": 7,
   "id": "56820194-ccce-4616-9cbb-fc375599a10e",
   "metadata": {},
   "outputs": [
    {
     "name": "stdout",
     "output_type": "stream",
     "text": [
      "Entropia: 0.5623351446188083\n"
     ]
    }
   ],
   "source": [
    "# outra forma para calcular N=2 eventos\n",
    "# binary-entropy\n",
    "H = -(p*np.log(p) + (1-p)*np.log(1-p))\n",
    "print('Entropia: ' + str(H))"
   ]
  },
  {
   "cell_type": "markdown",
   "id": "b6ab1bc8-76ee-439b-8a5a-045dab9442a6",
   "metadata": {},
   "source": [
    "### CrossEntropia"
   ]
  },
  {
   "cell_type": "code",
   "execution_count": 8,
   "id": "5588a797-2f19-4cbb-b89d-6c2655957b81",
   "metadata": {},
   "outputs": [
    {
     "name": "stdout",
     "output_type": "stream",
     "text": [
      "Cross-entropy: 1.3862943611198906\n"
     ]
    }
   ],
   "source": [
    "# nota: todas as probabilidades devem somar 1\n",
    "p = [1,0]\n",
    "q = [0.25, 0.75]\n",
    "\n",
    "H = 0\n",
    "for i in range(len(p)):\n",
    "    H -= p[i]*np.log(q[i])\n",
    "\n",
    "print('Cross-entropy: ' + str(H))"
   ]
  },
  {
   "cell_type": "code",
   "execution_count": 9,
   "id": "af83d629-9556-4808-a2de-73ce83a882af",
   "metadata": {},
   "outputs": [
    {
     "name": "stdout",
     "output_type": "stream",
     "text": [
      "Cross-entropy: 1.3862943611198906\n"
     ]
    }
   ],
   "source": [
    "# outra forma de escrever\n",
    "H = -( p[0]*np.log(q[0]) + p[1]*np.log(q[1]) )\n",
    "print('Binary Cross-entropy: ' + str(H))"
   ]
  },
  {
   "cell_type": "markdown",
   "id": "80c1f5c7-fee7-43c4-9118-bd11bddfb52e",
   "metadata": {},
   "source": [
    "#### Agora usando Pytorch"
   ]
  },
  {
   "cell_type": "code",
   "execution_count": 12,
   "id": "2c3a5e95-e09c-48e0-9d54-7a2e8cd1fc1e",
   "metadata": {},
   "outputs": [
    {
     "ename": "AttributeError",
     "evalue": "'list' object has no attribute 'size'",
     "output_type": "error",
     "traceback": [
      "\u001b[1;31m---------------------------------------------------------------------------\u001b[0m",
      "\u001b[1;31mAttributeError\u001b[0m                            Traceback (most recent call last)",
      "Cell \u001b[1;32mIn[12], line 8\u001b[0m\n\u001b[0;32m      5\u001b[0m q_tensor \u001b[38;5;241m=\u001b[39m torch\u001b[38;5;241m.\u001b[39mTensor(q)\n\u001b[0;32m      6\u001b[0m p_tensor \u001b[38;5;241m=\u001b[39m torch\u001b[38;5;241m.\u001b[39mTensor(p)\n\u001b[1;32m----> 8\u001b[0m F\u001b[38;5;241m.\u001b[39mbinary_cross_entropy(p,q)\n",
      "File \u001b[1;32m~\\Anaconda3\\envs\\estudo\\Lib\\site-packages\\torch\\nn\\functional.py:3112\u001b[0m, in \u001b[0;36mbinary_cross_entropy\u001b[1;34m(input, target, weight, size_average, reduce, reduction)\u001b[0m\n\u001b[0;32m   3110\u001b[0m \u001b[38;5;28;01melse\u001b[39;00m:\n\u001b[0;32m   3111\u001b[0m     reduction_enum \u001b[38;5;241m=\u001b[39m _Reduction\u001b[38;5;241m.\u001b[39mget_enum(reduction)\n\u001b[1;32m-> 3112\u001b[0m \u001b[38;5;28;01mif\u001b[39;00m target\u001b[38;5;241m.\u001b[39msize() \u001b[38;5;241m!=\u001b[39m \u001b[38;5;28minput\u001b[39m\u001b[38;5;241m.\u001b[39msize():\n\u001b[0;32m   3113\u001b[0m     \u001b[38;5;28;01mraise\u001b[39;00m \u001b[38;5;167;01mValueError\u001b[39;00m(\n\u001b[0;32m   3114\u001b[0m         \u001b[38;5;124m\"\u001b[39m\u001b[38;5;124mUsing a target size (\u001b[39m\u001b[38;5;132;01m{}\u001b[39;00m\u001b[38;5;124m) that is different to the input size (\u001b[39m\u001b[38;5;132;01m{}\u001b[39;00m\u001b[38;5;124m) is deprecated. \u001b[39m\u001b[38;5;124m\"\u001b[39m\n\u001b[0;32m   3115\u001b[0m         \u001b[38;5;124m\"\u001b[39m\u001b[38;5;124mPlease ensure they have the same size.\u001b[39m\u001b[38;5;124m\"\u001b[39m\u001b[38;5;241m.\u001b[39mformat(target\u001b[38;5;241m.\u001b[39msize(), \u001b[38;5;28minput\u001b[39m\u001b[38;5;241m.\u001b[39msize())\n\u001b[0;32m   3116\u001b[0m     )\n\u001b[0;32m   3118\u001b[0m \u001b[38;5;28;01mif\u001b[39;00m weight \u001b[38;5;129;01mis\u001b[39;00m \u001b[38;5;129;01mnot\u001b[39;00m \u001b[38;5;28;01mNone\u001b[39;00m:\n",
      "\u001b[1;31mAttributeError\u001b[0m: 'list' object has no attribute 'size'"
     ]
    }
   ],
   "source": [
    "import torch\n",
    "import torch.nn.functional as F\n",
    "\n",
    "# Nota: inputs devem ser tensores\n",
    "q_tensor = torch.Tensor(q)\n",
    "p_tensor = torch.Tensor(p)\n",
    "\n",
    "F.binary_cross_entropy(p,q)"
   ]
  },
  {
   "cell_type": "code",
   "execution_count": 13,
   "id": "22b2723e-4848-44f2-9099-b549aee31f38",
   "metadata": {},
   "outputs": [
    {
     "data": {
      "text/plain": [
       "tensor(75.)"
      ]
     },
     "execution_count": 13,
     "metadata": {},
     "output_type": "execute_result"
    }
   ],
   "source": [
    "F.binary_cross_entropy(p_tensor,q_tensor)"
   ]
  },
  {
   "cell_type": "code",
   "execution_count": 14,
   "id": "4cecd00a-2e2e-4c64-bf8e-65ddbedbf9c9",
   "metadata": {},
   "outputs": [
    {
     "data": {
      "text/plain": [
       "tensor(1.3863)"
      ]
     },
     "execution_count": 14,
     "metadata": {},
     "output_type": "execute_result"
    }
   ],
   "source": [
    "F.binary_cross_entropy(q_tensor, p_tensor)"
   ]
  },
  {
   "cell_type": "code",
   "execution_count": null,
   "id": "d8dd4750-e852-4e16-a625-58e087de1f76",
   "metadata": {},
   "outputs": [],
   "source": []
  }
 ],
 "metadata": {
  "kernelspec": {
   "display_name": "Python 3 (ipykernel)",
   "language": "python",
   "name": "python3"
  },
  "language_info": {
   "codemirror_mode": {
    "name": "ipython",
    "version": 3
   },
   "file_extension": ".py",
   "mimetype": "text/x-python",
   "name": "python",
   "nbconvert_exporter": "python",
   "pygments_lexer": "ipython3",
   "version": "3.11.7"
  }
 },
 "nbformat": 4,
 "nbformat_minor": 5
}
