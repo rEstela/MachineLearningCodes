{
 "cells": [
  {
   "cell_type": "code",
   "execution_count": 1,
   "id": "d15843b4",
   "metadata": {},
   "outputs": [],
   "source": [
    "# Load Libraries\n",
    "from sklearn.linear_model import LinearRegression\n",
    "from sklearn.datasets import load_boston"
   ]
  },
  {
   "cell_type": "code",
   "execution_count": 2,
   "id": "fa2106ef",
   "metadata": {},
   "outputs": [],
   "source": [
    "# Load data with only 2 features\n",
    "boston = load_boston()\n",
    "features = boston.data[:,0:2]\n",
    "target = boston.target"
   ]
  },
  {
   "cell_type": "code",
   "execution_count": 3,
   "id": "7c4060e4",
   "metadata": {},
   "outputs": [],
   "source": [
    "# Create linear regression\n",
    "regression = LinearRegression()"
   ]
  },
  {
   "cell_type": "code",
   "execution_count": 4,
   "id": "cadf4368",
   "metadata": {},
   "outputs": [],
   "source": [
    "# Fit the linear regression\n",
    "model = regression.fit(features, target)"
   ]
  },
  {
   "cell_type": "code",
   "execution_count": 5,
   "id": "6b264857",
   "metadata": {},
   "outputs": [
    {
     "name": "stdout",
     "output_type": "stream",
     "text": [
      "model.coef_:  [-0.35207832  0.11610909]\n",
      "model.intercept_:  22.485628113468223\n"
     ]
    }
   ],
   "source": [
    "# y = w0 + w1 x1 + w2 x2\n",
    "#w0 = model.intercept_\n",
    "#w1 e w2 = model.coef_\n",
    "print(\"model.coef_: \", model.coef_)\n",
    "print(\"model.intercept_: \", model.intercept_)"
   ]
  },
  {
   "cell_type": "code",
   "execution_count": 7,
   "id": "237121a5",
   "metadata": {},
   "outputs": [
    {
     "data": {
      "text/plain": [
       "24573.366631705547"
      ]
     },
     "execution_count": 7,
     "metadata": {},
     "output_type": "execute_result"
    }
   ],
   "source": [
    "model.predict(features)[0]*1000 # predicted by the linear regression model"
   ]
  },
  {
   "cell_type": "code",
   "execution_count": 8,
   "id": "37a6b139",
   "metadata": {},
   "outputs": [
    {
     "data": {
      "text/plain": [
       "24000.0"
      ]
     },
     "execution_count": 8,
     "metadata": {},
     "output_type": "execute_result"
    }
   ],
   "source": [
    "target[0]*1000 # true value"
   ]
  },
  {
   "cell_type": "markdown",
   "id": "3b2a374a",
   "metadata": {},
   "source": [
    "## Interactive Effects\n",
    "#### Problema:\n",
    "temos caracteristicas cujos efeitos na variavel alvo depende de outra feature.\n",
    "E.g.\n",
    "Imagine que vamos fazer um café e temos duas features binárias:\n",
    "(1) a presença de açucar (sugar); (2) se foi ou não mexido o café (stirred).\n",
    "E queremos prever se o café está doce.\n",
    "\n",
    "Note que apenas colocar açucar (sugar = 1 | stirred = 0) não vai deixar o café doce.\n",
    "Se mexer o café, mas não colocar açucar (sugar = 0 | stirred = 1) também não.\n",
    "Ou seja, é a interação entre colocar açucar e mexer que faz o café ficar doce. As duas features são dependentes.\n",
    "\n",
    "y = w0 + w1 x1 + w2 x2 + w3 x1 x2\n",
    "\n",
    "onde x1 e x2 são os valores de sugar e stirred"
   ]
  },
  {
   "cell_type": "code",
   "execution_count": 11,
   "id": "5249e54a",
   "metadata": {},
   "outputs": [],
   "source": [
    "# Load libraries\n",
    "from sklearn.linear_model import LinearRegression\n",
    "from sklearn.datasets import load_boston\n",
    "from sklearn.preprocessing import PolynomialFeatures\n",
    "\n",
    "# Load data with only two features\n",
    "boston = load_boston()\n",
    "features = boston.data[:,0:2]\n",
    "target = boston.target\n",
    "\n",
    "# Create interaction term\n",
    "interaction = PolynomialFeatures(degree=3, \n",
    "                                 include_bias=False, \n",
    "                                 interaction_only=True)\n",
    "features_interaction = interaction.fit_transform(features)\n",
    "\n",
    "# Create linear regression\n",
    "regression = LinearRegression()\n",
    "\n",
    "# Fit the linear regression\n",
    "model = regression.fit(features_interaction, target)"
   ]
  },
  {
   "cell_type": "code",
   "execution_count": null,
   "id": "c1d795a4",
   "metadata": {},
   "outputs": [],
   "source": [
    "print(\"model.coef_: \", model.coef_)\n",
    "print(\"model.intercept_: \", model.intercept_)"
   ]
  },
  {
   "cell_type": "markdown",
   "id": "f7a04feb",
   "metadata": {},
   "source": [
    "Nesse modelo, usamos um dataset contendo apenas 2 features. Aqui está os valores da primeira observação dessas features:"
   ]
  },
  {
   "cell_type": "code",
   "execution_count": 10,
   "id": "6728df98",
   "metadata": {},
   "outputs": [
    {
     "data": {
      "text/plain": [
       "array([6.32e-03, 1.80e+01])"
      ]
     },
     "execution_count": 10,
     "metadata": {},
     "output_type": "execute_result"
    }
   ],
   "source": [
    "features[0]"
   ]
  },
  {
   "cell_type": "markdown",
   "id": "cfa8fb1a",
   "metadata": {},
   "source": [
    "Para criar um termo de interação, nós simplesmente multiplicamos aqueles dois valores juntos para cada observação:"
   ]
  },
  {
   "cell_type": "code",
   "execution_count": 13,
   "id": "25b0c7d2",
   "metadata": {},
   "outputs": [
    {
     "data": {
      "text/plain": [
       "0.11376"
      ]
     },
     "execution_count": 13,
     "metadata": {},
     "output_type": "execute_result"
    }
   ],
   "source": [
    "# Import library\n",
    "import numpy as np\n",
    "\n",
    "# For each observation, multiply the values of the first and second feature\n",
    "interaction_term = np.multiply(features[:, 0], features[:, 1])\n",
    "\n",
    "# View interaction term for the first observation\n",
    "interaction_term[0]"
   ]
  },
  {
   "cell_type": "code",
   "execution_count": 14,
   "id": "b06791f6",
   "metadata": {},
   "outputs": [
    {
     "data": {
      "text/plain": [
       "array([6.3200e-03, 1.8000e+01, 1.1376e-01])"
      ]
     },
     "execution_count": 14,
     "metadata": {},
     "output_type": "execute_result"
    }
   ],
   "source": [
    "# View the values of the first observation\n",
    "features_interaction[0]"
   ]
  },
  {
   "cell_type": "markdown",
   "id": "6653eff7",
   "metadata": {},
   "source": [
    "### Fitting a Nonlinear Relationship"
   ]
  },
  {
   "cell_type": "code",
   "execution_count": 15,
   "id": "c435de9e",
   "metadata": {},
   "outputs": [],
   "source": [
    "# Load library\n",
    "from sklearn.linear_model import LinearRegression\n",
    "from sklearn.datasets import load_boston\n",
    "from sklearn.preprocessing import PolynomialFeatures\n",
    "\n",
    "# Load data with one feature\n",
    "boston = load_boston()\n",
    "features = boston.data[:,0:1]\n",
    "target = boston.target\n",
    "\n",
    "# Create polynomial features x^2 and x^3\n",
    "polynomial = PolynomialFeatures(degree=3, \n",
    "                                include_bias=False)\n",
    "features_polynomial = polynomial.fit_transform(features)\n",
    "\n",
    "# Create linear regression\n",
    "regression = LinearRegression()\n",
    "\n",
    "# Fit the linear regression\n",
    "model = regression.fit(features_polynomial, target)"
   ]
  },
  {
   "cell_type": "code",
   "execution_count": 17,
   "id": "f47b8d33",
   "metadata": {},
   "outputs": [
    {
     "name": "stdout",
     "output_type": "stream",
     "text": [
      "model.coef_:  [-1.13640072e+00  2.37848254e-02 -1.48872090e-04]\n",
      "model.intercept_:  25.19047936932673\n"
     ]
    }
   ],
   "source": [
    "print(\"model.coef_: \", model.coef_)\n",
    "print(\"model.intercept_: \", model.intercept_)"
   ]
  },
  {
   "cell_type": "code",
   "execution_count": 16,
   "id": "722858a8",
   "metadata": {},
   "outputs": [
    {
     "data": {
      "text/plain": [
       "array([0.00632])"
      ]
     },
     "execution_count": 16,
     "metadata": {},
     "output_type": "execute_result"
    }
   ],
   "source": [
    "features[0]"
   ]
  },
  {
   "cell_type": "code",
   "execution_count": 18,
   "id": "0f88948d",
   "metadata": {},
   "outputs": [
    {
     "data": {
      "text/plain": [
       "array([3.99424e-05])"
      ]
     },
     "execution_count": 18,
     "metadata": {},
     "output_type": "execute_result"
    }
   ],
   "source": [
    "features[0]**2"
   ]
  },
  {
   "cell_type": "code",
   "execution_count": 19,
   "id": "a102063f",
   "metadata": {},
   "outputs": [
    {
     "data": {
      "text/plain": [
       "array([2.52435968e-07])"
      ]
     },
     "execution_count": 19,
     "metadata": {},
     "output_type": "execute_result"
    }
   ],
   "source": [
    "features[0]**3"
   ]
  },
  {
   "cell_type": "code",
   "execution_count": 20,
   "id": "67d1d85c",
   "metadata": {},
   "outputs": [
    {
     "data": {
      "text/plain": [
       "array([6.32000000e-03, 3.99424000e-05, 2.52435968e-07])"
      ]
     },
     "execution_count": 20,
     "metadata": {},
     "output_type": "execute_result"
    }
   ],
   "source": [
    "features_polynomial[0]"
   ]
  },
  {
   "cell_type": "code",
   "execution_count": null,
   "id": "3e2a9512",
   "metadata": {},
   "outputs": [],
   "source": []
  }
 ],
 "metadata": {
  "kernelspec": {
   "display_name": "Python 3 (ipykernel)",
   "language": "python",
   "name": "python3"
  },
  "language_info": {
   "codemirror_mode": {
    "name": "ipython",
    "version": 3
   },
   "file_extension": ".py",
   "mimetype": "text/x-python",
   "name": "python",
   "nbconvert_exporter": "python",
   "pygments_lexer": "ipython3",
   "version": "3.9.7"
  }
 },
 "nbformat": 4,
 "nbformat_minor": 5
}
